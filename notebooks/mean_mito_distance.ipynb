{
 "cells": [
  {
   "cell_type": "code",
   "execution_count": null,
   "id": "c02a5d29",
   "metadata": {},
   "outputs": [],
   "source": [
    "import os\n",
    "import csv\n",
    "import cv2\n",
    "from skimage import io\n",
    "import numpy as np\n",
    "from skimage.measure import block_reduce, label, regionprops\n",
    "from skimage.color import label2rgb\n",
    "import tifffile as tiff\n",
    "import matplotlib.pyplot as plt\n",
    "from nd2 import ND2File\n",
    "from pathlib import Path\n",
    "\n",
    "from scipy import stats\n",
    "\n",
    "\n",
    "import pandas as pd\n"
   ]
  },
  {
   "cell_type": "code",
   "execution_count": null,
   "id": "60303b07",
   "metadata": {},
   "outputs": [],
   "source": [
    "directory = Path('.')\n",
    "\n",
    "# Get all .nd2 files\n",
    "csv_files = list(directory.glob(\"*.csv\"))\n",
    "\n",
    "# If you want full paths as strings:\n",
    "csv_file_paths = [str(f) for f in csv_files]"
   ]
  },
  {
   "cell_type": "code",
   "execution_count": null,
   "id": "2a6afeaa",
   "metadata": {},
   "outputs": [],
   "source": [
    "csv_file_paths"
   ]
  },
  {
   "cell_type": "code",
   "execution_count": null,
   "id": "cdaec6f9",
   "metadata": {},
   "outputs": [],
   "source": [
    "dfs = []\n",
    "\n",
    "for csv in csv_file_paths:\n",
    "    df = pd.read_csv(csv)\n",
    "    dfs.append(df)"
   ]
  },
  {
   "cell_type": "code",
   "execution_count": null,
   "id": "78221728",
   "metadata": {},
   "outputs": [],
   "source": [
    "(2+5)/(0.4315)\n"
   ]
  },
  {
   "cell_type": "code",
   "execution_count": null,
   "id": "c9eb13da",
   "metadata": {},
   "outputs": [],
   "source": [
    "for i, df in enumerate(dfs):\n",
    "\n",
    "    print(f\"Analyzing file {csv_file_paths[i]}\")\n",
    "\n",
    "    df_subset = df[df['distance'] <= 16]\n",
    "\n",
    "    for j, comp_df in enumerate(dfs):\n",
    "\n",
    "        comp_subset = comp_df[comp_df['distance'] <= 16]\n",
    "\n",
    "        x = df_subset['distance']\n",
    "        y = comp_subset['distance']\n",
    "        stat, pvalue = (stats.kruskal(x,y))\n",
    "        if pvalue < 0.05/(16*16):\n",
    "            print(pvalue)\n",
    "        else:\n",
    "            pass\n",
    "\n",
    "    print()\n",
    "    \n"
   ]
  },
  {
   "cell_type": "code",
   "execution_count": null,
   "id": "620a5c20",
   "metadata": {},
   "outputs": [],
   "source": [
    "\n",
    "x = dfs[0]['distance']\n",
    "y = dfs[1]['distance']\n",
    "\n",
    "stats.kruskal(x, y)"
   ]
  },
  {
   "cell_type": "code",
   "execution_count": null,
   "id": "b843ff31",
   "metadata": {},
   "outputs": [],
   "source": [
    "dfs[0].head()"
   ]
  },
  {
   "cell_type": "code",
   "execution_count": null,
   "id": "dac154d2",
   "metadata": {},
   "outputs": [],
   "source": [
    "all_prop_df = pd.read_csv(\"/Users/nelsschimek/Downloads/All_Properties.csv\")\n",
    "all_prop_df.head()"
   ]
  },
  {
   "cell_type": "code",
   "execution_count": null,
   "id": "64a18c17",
   "metadata": {},
   "outputs": [],
   "source": [
    "all_prop_df[\"ideal_radius\"].hist(bins=10, range=[0,20])"
   ]
  }
 ],
 "metadata": {
  "kernelspec": {
   "display_name": "vampire",
   "language": "python",
   "name": "python3"
  },
  "language_info": {
   "codemirror_mode": {
    "name": "ipython",
    "version": 3
   },
   "file_extension": ".py",
   "mimetype": "text/x-python",
   "name": "python",
   "nbconvert_exporter": "python",
   "pygments_lexer": "ipython3",
   "version": "3.11.11"
  }
 },
 "nbformat": 4,
 "nbformat_minor": 5
}
