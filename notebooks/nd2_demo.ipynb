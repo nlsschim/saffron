{
 "cells": [
  {
   "cell_type": "code",
   "execution_count": 2,
   "metadata": {},
   "outputs": [],
   "source": [
    "import nd2"
   ]
  },
  {
   "cell_type": "code",
   "execution_count": 4,
   "metadata": {},
   "outputs": [
    {
     "data": {
      "text/plain": [
       "(2, 1024, 1024)"
      ]
     },
     "execution_count": 4,
     "metadata": {},
     "output_type": "execute_result"
    }
   ],
   "source": [
    "import nd2\n",
    "\n",
    "# read to numpy array\n",
    "my_array = nd2.imread('/Users/nelsschimek/Documents/nancelab/Data/test_nd2.nd2')\n",
    "my_array.shape"
   ]
  },
  {
   "cell_type": "code",
   "execution_count": 23,
   "metadata": {},
   "outputs": [
    {
     "name": "stdout",
     "output_type": "stream",
     "text": [
      "BoxShape(sizeX=<ND2File at 0x7f9c4f67c040: 'test_nd2.nd2' uint16: mappingproxy({'C': 2, 'Y': 1024, 'X': 1024})>, sizeY=0, sizeZ=0)\n"
     ]
    }
   ],
   "source": [
    "with nd2.ND2File('/Users/nelsschimek/Documents/nancelab/Data/test_nd2.nd2') as myfile:\n",
    "    print(nd2.structures.BoxShape(myfile))\n",
    "\n"
   ]
  }
 ],
 "metadata": {
  "kernelspec": {
   "display_name": "diff_predictor_env",
   "language": "python",
   "name": "python3"
  },
  "language_info": {
   "codemirror_mode": {
    "name": "ipython",
    "version": 3
   },
   "file_extension": ".py",
   "mimetype": "text/x-python",
   "name": "python",
   "nbconvert_exporter": "python",
   "pygments_lexer": "ipython3",
   "version": "3.8.0"
  }
 },
 "nbformat": 4,
 "nbformat_minor": 2
}
